{
 "cells": [
  {
   "cell_type": "code",
   "execution_count": 8,
   "id": "c0989d13-ac67-4874-a81f-fd7b7ae4cb01",
   "metadata": {},
   "outputs": [],
   "source": [
    "t = {'emotion': {'angry': 8.307028311909933, 'disgust': 1.7440829820744486e-07, 'fear': 0.08762435694966357, 'happy': 2.8673475970681394e-06, 'sad': 90.66847507169695, 'surprise': 8.669492030310766e-09, 'neutral': 0.9368721022827686}, 'dominant_emotion': 'sad', 'region': {'x': 174, 'y': 128, 'w': 159, 'h': 159}, 'age': 30, 'gender': 'Man', 'race': {'asian': 2.615686753012329, 'indian': 61.848418492267314, 'black': 4.859278516855417, 'white': 4.437136121137605, 'middle eastern': 14.117036567087583, 'latino hispanic': 12.122446343607146}, 'dominant_race': 'indian'}\n"
   ]
  },
  {
   "cell_type": "code",
   "execution_count": 9,
   "id": "2d93064a-8407-4871-90f5-84d8c4c85b7b",
   "metadata": {},
   "outputs": [
    {
     "data": {
      "text/plain": [
       "90.66847507169695"
      ]
     },
     "execution_count": 9,
     "metadata": {},
     "output_type": "execute_result"
    }
   ],
   "source": [
    "t['emotion']['sad']"
   ]
  },
  {
   "cell_type": "code",
   "execution_count": 11,
   "id": "40c15a72-cd3d-474d-a02d-9dea023b696d",
   "metadata": {},
   "outputs": [
    {
     "data": {
      "text/plain": [
       "{'angry': 8.307028311909933,\n",
       " 'disgust': 1.7440829820744486e-07,\n",
       " 'fear': 0.08762435694966357,\n",
       " 'happy': 2.8673475970681394e-06,\n",
       " 'sad': 90.66847507169695,\n",
       " 'surprise': 8.669492030310766e-09,\n",
       " 'neutral': 0.9368721022827686}"
      ]
     },
     "execution_count": 11,
     "metadata": {},
     "output_type": "execute_result"
    }
   ],
   "source": [
    "t[\"emotion\"]"
   ]
  },
  {
   "cell_type": "code",
   "execution_count": null,
   "id": "35710922-1df6-4321-a9e8-b81b1070cbe9",
   "metadata": {},
   "outputs": [],
   "source": []
  }
 ],
 "metadata": {
  "kernelspec": {
   "display_name": "Python 3 (ipykernel)",
   "language": "python",
   "name": "python3"
  },
  "language_info": {
   "codemirror_mode": {
    "name": "ipython",
    "version": 3
   },
   "file_extension": ".py",
   "mimetype": "text/x-python",
   "name": "python",
   "nbconvert_exporter": "python",
   "pygments_lexer": "ipython3",
   "version": "3.7.13"
  }
 },
 "nbformat": 4,
 "nbformat_minor": 5
}
